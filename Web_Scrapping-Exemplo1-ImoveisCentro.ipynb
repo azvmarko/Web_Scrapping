{
 "cells": [
  {
   "cell_type": "markdown",
   "metadata": {},
   "source": [
    "# TESTE DE WEB SCRAPPING\n",
    "\n",
    "Endereço web: http://www.imoveisnocentrosp.com.br/buscar?venda=Sim\n",
    "\n",
    "capturar os seguintes campos em uma primeira rodada.\n",
    "\n",
    "- Nome do imóvel \n",
    "- Valor\n",
    "- Descrição\n",
    "- Quantidade de quartos\n",
    "- Quantidade de banheiros\n",
    "- Quantidade de vagas\n",
    "- Area em m2\n",
    "- Código do imóvel\n",
    "\n",
    "Depois desta primeira ação paginar por um determinado número de páginas (dado pelo usuário)"
   ]
  },
  {
   "cell_type": "code",
   "execution_count": 1,
   "metadata": {
    "ExecuteTime": {
     "end_time": "2019-07-02T22:55:21.418318Z",
     "start_time": "2019-07-02T22:55:20.237813Z"
    }
   },
   "outputs": [],
   "source": [
    "import pandas as pd\n",
    "from bs4 import BeautifulSoup\n",
    "from requests import get\n",
    "from time import sleep\n",
    "from random import randint"
   ]
  },
  {
   "cell_type": "markdown",
   "metadata": {},
   "source": [
    "# Determinando a URL"
   ]
  },
  {
   "cell_type": "code",
   "execution_count": 2,
   "metadata": {
    "ExecuteTime": {
     "end_time": "2019-07-02T22:55:21.433939Z",
     "start_time": "2019-07-02T22:55:21.418318Z"
    }
   },
   "outputs": [],
   "source": [
    "url=\"http://www.imoveisnocentrosp.com.br/buscar?venda=Sim\""
   ]
  },
  {
   "cell_type": "markdown",
   "metadata": {},
   "source": [
    "### Capturando a URL com GET"
   ]
  },
  {
   "cell_type": "code",
   "execution_count": 3,
   "metadata": {
    "ExecuteTime": {
     "end_time": "2019-07-02T22:55:22.384283Z",
     "start_time": "2019-07-02T22:55:21.434237Z"
    }
   },
   "outputs": [
    {
     "data": {
      "text/plain": [
       "<Response [200]>"
      ]
     },
     "execution_count": 3,
     "metadata": {},
     "output_type": "execute_result"
    }
   ],
   "source": [
    "get(url)"
   ]
  },
  {
   "cell_type": "code",
   "execution_count": 4,
   "metadata": {
    "ExecuteTime": {
     "end_time": "2019-07-02T22:55:23.194908Z",
     "start_time": "2019-07-02T22:55:22.384283Z"
    }
   },
   "outputs": [],
   "source": [
    "conteudo = get(url).content"
   ]
  },
  {
   "cell_type": "markdown",
   "metadata": {},
   "source": [
    "### Transformando o conteúdo em HTML"
   ]
  },
  {
   "cell_type": "code",
   "execution_count": 5,
   "metadata": {
    "ExecuteTime": {
     "end_time": "2019-07-02T22:55:23.327696Z",
     "start_time": "2019-07-02T22:55:23.194908Z"
    }
   },
   "outputs": [],
   "source": [
    "conteudo = BeautifulSoup(conteudo,'html.parser')"
   ]
  },
  {
   "cell_type": "markdown",
   "metadata": {},
   "source": [
    "# Identificando a posição inicial dos itens"
   ]
  },
  {
   "cell_type": "code",
   "execution_count": 6,
   "metadata": {
    "ExecuteTime": {
     "end_time": "2019-07-02T22:55:23.347163Z",
     "start_time": "2019-07-02T22:55:23.327696Z"
    }
   },
   "outputs": [],
   "source": [
    "imoveis_centro = conteudo.find('div', class_='tm-property__wrap').find_all('div',  class_='tm-property__item')"
   ]
  },
  {
   "cell_type": "markdown",
   "metadata": {},
   "source": [
    "### Verificando quantos itens coletados"
   ]
  },
  {
   "cell_type": "code",
   "execution_count": 7,
   "metadata": {
    "ExecuteTime": {
     "end_time": "2019-07-02T22:55:23.371431Z",
     "start_time": "2019-07-02T22:55:23.351162Z"
    }
   },
   "outputs": [
    {
     "name": "stdout",
     "output_type": "stream",
     "text": [
      "15\n"
     ]
    }
   ],
   "source": [
    "print(len(imoveis_centro))"
   ]
  },
  {
   "cell_type": "markdown",
   "metadata": {},
   "source": [
    "# Testando as posições dos itens a serem coletados"
   ]
  },
  {
   "cell_type": "code",
   "execution_count": 8,
   "metadata": {
    "ExecuteTime": {
     "end_time": "2019-07-02T22:55:23.383430Z",
     "start_time": "2019-07-02T22:55:23.375429Z"
    }
   },
   "outputs": [],
   "source": [
    "first_house=imoveis_centro[0]"
   ]
  },
  {
   "cell_type": "code",
   "execution_count": 9,
   "metadata": {
    "ExecuteTime": {
     "end_time": "2019-07-02T22:55:23.403422Z",
     "start_time": "2019-07-02T22:55:23.387426Z"
    }
   },
   "outputs": [
    {
     "data": {
      "text/plain": [
       "'Água Branca'"
      ]
     },
     "execution_count": 9,
     "metadata": {},
     "output_type": "execute_result"
    }
   ],
   "source": [
    "first_house.find('h6',  class_='tm-property__title').text.strip() #título"
   ]
  },
  {
   "cell_type": "code",
   "execution_count": 10,
   "metadata": {
    "ExecuteTime": {
     "end_time": "2019-07-02T22:55:23.427414Z",
     "start_time": "2019-07-02T22:55:23.407420Z"
    }
   },
   "outputs": [
    {
     "data": {
      "text/plain": [
       "'700000,00'"
      ]
     },
     "execution_count": 10,
     "metadata": {},
     "output_type": "execute_result"
    }
   ],
   "source": [
    "first_house.find('h6', class_='tm-property__price').text.strip().replace(\"R$ \",\"\").replace(\".\",\"\") #valor"
   ]
  },
  {
   "cell_type": "code",
   "execution_count": 11,
   "metadata": {
    "ExecuteTime": {
     "end_time": "2019-07-02T22:55:23.451407Z",
     "start_time": "2019-07-02T22:55:23.427414Z"
    }
   },
   "outputs": [
    {
     "data": {
      "text/plain": [
       "'Descrição do Apto:\\r\\n63m² de área útil\\r\\n114m² de área total\\r\\n02 Dormitórios, sendo 1 suíte\\r\\n02 Vagas\\r\\n01 Banheiro...'"
      ]
     },
     "execution_count": 11,
     "metadata": {},
     "output_type": "execute_result"
    }
   ],
   "source": [
    "first_house.find('div', class_='tm-property__excerpt').text.strip() #descrição"
   ]
  },
  {
   "cell_type": "code",
   "execution_count": 12,
   "metadata": {
    "ExecuteTime": {
     "end_time": "2019-07-02T22:55:23.463402Z",
     "start_time": "2019-07-02T22:55:23.451407Z"
    }
   },
   "outputs": [
    {
     "data": {
      "text/plain": [
       "'63 m²'"
      ]
     },
     "execution_count": 12,
     "metadata": {},
     "output_type": "execute_result"
    }
   ],
   "source": [
    "first_house.find('span', class_='tm-property__attributes-area').text.strip() #área em m2"
   ]
  },
  {
   "cell_type": "code",
   "execution_count": 13,
   "metadata": {
    "ExecuteTime": {
     "end_time": "2019-07-02T22:55:23.475400Z",
     "start_time": "2019-07-02T22:55:23.463402Z"
    }
   },
   "outputs": [
    {
     "data": {
      "text/plain": [
       "'2'"
      ]
     },
     "execution_count": 13,
     "metadata": {},
     "output_type": "execute_result"
    }
   ],
   "source": [
    "first_house.find('span', class_='tm-property__attributes-bedrooms').text.strip() #quartos"
   ]
  },
  {
   "cell_type": "code",
   "execution_count": 14,
   "metadata": {
    "ExecuteTime": {
     "end_time": "2019-07-02T22:55:23.487401Z",
     "start_time": "2019-07-02T22:55:23.479398Z"
    }
   },
   "outputs": [
    {
     "data": {
      "text/plain": [
       "'1'"
      ]
     },
     "execution_count": 14,
     "metadata": {},
     "output_type": "execute_result"
    }
   ],
   "source": [
    "first_house.find('span', class_='tm-property__attributes-bathrooms').text.strip() #banheiros"
   ]
  },
  {
   "cell_type": "code",
   "execution_count": 15,
   "metadata": {
    "ExecuteTime": {
     "end_time": "2019-07-02T22:55:23.527388Z",
     "start_time": "2019-07-02T22:55:23.487401Z"
    }
   },
   "outputs": [
    {
     "data": {
      "text/plain": [
       "'2'"
      ]
     },
     "execution_count": 15,
     "metadata": {},
     "output_type": "execute_result"
    }
   ],
   "source": [
    "first_house.find('span', class_='tm-property__attributes-parking-spot').text.strip() #vagas"
   ]
  },
  {
   "cell_type": "code",
   "execution_count": 16,
   "metadata": {
    "ExecuteTime": {
     "end_time": "2019-07-02T22:55:23.559375Z",
     "start_time": "2019-07-02T22:55:23.527388Z"
    }
   },
   "outputs": [
    {
     "data": {
      "text/plain": [
       "'Cód. 249'"
      ]
     },
     "execution_count": 16,
     "metadata": {},
     "output_type": "execute_result"
    }
   ],
   "source": [
    "first_house.find('div', class_='tm-property__code').text.strip()"
   ]
  },
  {
   "cell_type": "markdown",
   "metadata": {},
   "source": [
    "# Função para coletar os dados - sem paginação"
   ]
  },
  {
   "cell_type": "code",
   "execution_count": 17,
   "metadata": {
    "ExecuteTime": {
     "end_time": "2019-07-02T22:55:23.635352Z",
     "start_time": "2019-07-02T22:55:23.563374Z"
    }
   },
   "outputs": [],
   "source": [
    "names = []\n",
    "values = []\n",
    "descriptions = []\n",
    "bedrooms = []\n",
    "bathrooms = []\n",
    "parking_spots = []\n",
    "area = []\n",
    "codigo = []\n",
    "\n",
    "for container in imoveis_centro: \n",
    "    \n",
    "    name = container.find('h6',  class_='tm-property__title').text.strip()\n",
    "    names.append(name)    \n",
    "    \n",
    "    value = float(container.find('h6', class_='tm-property__price').text.strip().replace(\"R$ \",\"\").replace(\".\",\"\").replace(\",\",\".\"))\n",
    "    values.append(value) \n",
    "    \n",
    "    description = container.find('div', class_='tm-property__excerpt').text.strip()\n",
    "    descriptions.append(description)    \n",
    "        \n",
    "    cod = int(container.find('div', class_='tm-property__code').text.strip().replace(\"Cód. \",\"\"))\n",
    "    codigo.append(cod)\n",
    "    \n",
    "    if container.find('div', class_='tm-property__attributes') is not None:\n",
    "        if container.find('span', class_='tm-property__attributes-bedrooms') is not None:\n",
    "            bedroom =  int(container.find('span', class_='tm-property__attributes-bedrooms').text.strip())\n",
    "            bedrooms.append(bedroom)\n",
    "        else:\n",
    "            bedroom = 0\n",
    "            bedrooms.append(bedroom)\n",
    "        \n",
    "        if container.find('span', class_='tm-property__attributes-bathrooms') is not None:\n",
    "            bathroom =  int(container.find('span', class_='tm-property__attributes-bathrooms').text.strip())\n",
    "            bathrooms.append(bathroom)\n",
    "        else:\n",
    "            bathroom = 0\n",
    "            bathrooms.append(bathroom) \n",
    "        \n",
    "        if container.find('span', class_='tm-property__attributes-parking-spot') is not None:\n",
    "            parking_spot =  int(container.find('span', class_='tm-property__attributes-parking-spot').text.strip())\n",
    "            parking_spots.append(parking_spot)\n",
    "        else:\n",
    "            parking_spot = 0\n",
    "            parking_spots.append(parking_spot)\n",
    "        \n",
    "        if container.find('span', class_='tm-property__attributes-area') is not None:\n",
    "            area2 =  float(container.find('span', class_='tm-property__attributes-area').text.strip().replace(\" m²\",\"\"))\n",
    "            area.append(area2)\n",
    "        else:\n",
    "            area2 = 0\n",
    "            area.append(area2)       \n",
    "       \n",
    "  "
   ]
  },
  {
   "cell_type": "markdown",
   "metadata": {},
   "source": [
    "# Criando DataFrame"
   ]
  },
  {
   "cell_type": "code",
   "execution_count": 18,
   "metadata": {
    "ExecuteTime": {
     "end_time": "2019-07-02T22:55:23.651348Z",
     "start_time": "2019-07-02T22:55:23.639352Z"
    }
   },
   "outputs": [],
   "source": [
    "df = pd.DataFrame({'nome':names,\n",
    "                   'valor':values, \n",
    "                   'descricao': descriptions, \n",
    "                   'quartos': bedrooms,\n",
    "                   'banheiros':bathrooms,\n",
    "                   'vagas':parking_spots,\n",
    "                   'area':area,\n",
    "                   'codigo':codigo\n",
    "                  })\n"
   ]
  },
  {
   "cell_type": "code",
   "execution_count": 19,
   "metadata": {
    "ExecuteTime": {
     "end_time": "2019-07-02T22:55:23.703333Z",
     "start_time": "2019-07-02T22:55:23.655348Z"
    }
   },
   "outputs": [
    {
     "data": {
      "text/html": [
       "<div>\n",
       "<style scoped>\n",
       "    .dataframe tbody tr th:only-of-type {\n",
       "        vertical-align: middle;\n",
       "    }\n",
       "\n",
       "    .dataframe tbody tr th {\n",
       "        vertical-align: top;\n",
       "    }\n",
       "\n",
       "    .dataframe thead th {\n",
       "        text-align: right;\n",
       "    }\n",
       "</style>\n",
       "<table border=\"1\" class=\"dataframe\">\n",
       "  <thead>\n",
       "    <tr style=\"text-align: right;\">\n",
       "      <th></th>\n",
       "      <th>nome</th>\n",
       "      <th>valor</th>\n",
       "      <th>descricao</th>\n",
       "      <th>quartos</th>\n",
       "      <th>banheiros</th>\n",
       "      <th>vagas</th>\n",
       "      <th>area</th>\n",
       "      <th>codigo</th>\n",
       "    </tr>\n",
       "  </thead>\n",
       "  <tbody>\n",
       "    <tr>\n",
       "      <th>0</th>\n",
       "      <td>Água Branca</td>\n",
       "      <td>700000.0</td>\n",
       "      <td>Descrição do Apto:\\r\\n63m² de área útil\\r\\n114...</td>\n",
       "      <td>2</td>\n",
       "      <td>1</td>\n",
       "      <td>2</td>\n",
       "      <td>63.0</td>\n",
       "      <td>249</td>\n",
       "    </tr>\n",
       "    <tr>\n",
       "      <th>1</th>\n",
       "      <td>Água Branca</td>\n",
       "      <td>905000.0</td>\n",
       "      <td>Varanda Gourmet e Lazer completo</td>\n",
       "      <td>3</td>\n",
       "      <td>0</td>\n",
       "      <td>0</td>\n",
       "      <td>0.0</td>\n",
       "      <td>252</td>\n",
       "    </tr>\n",
       "    <tr>\n",
       "      <th>2</th>\n",
       "      <td>Barra Funda</td>\n",
       "      <td>340000.0</td>\n",
       "      <td>Apartamento com dois dormitórios, sala, cozinh...</td>\n",
       "      <td>2</td>\n",
       "      <td>0</td>\n",
       "      <td>0</td>\n",
       "      <td>86.0</td>\n",
       "      <td>26</td>\n",
       "    </tr>\n",
       "    <tr>\n",
       "      <th>3</th>\n",
       "      <td>Barra Funda</td>\n",
       "      <td>530000.0</td>\n",
       "      <td></td>\n",
       "      <td>2</td>\n",
       "      <td>1</td>\n",
       "      <td>0</td>\n",
       "      <td>66.0</td>\n",
       "      <td>34</td>\n",
       "    </tr>\n",
       "    <tr>\n",
       "      <th>4</th>\n",
       "      <td>Bela Vista</td>\n",
       "      <td>200000.0</td>\n",
       "      <td>Apartamento tipo studio na avenida 9 de julho ...</td>\n",
       "      <td>0</td>\n",
       "      <td>0</td>\n",
       "      <td>0</td>\n",
       "      <td>0.0</td>\n",
       "      <td>421</td>\n",
       "    </tr>\n",
       "    <tr>\n",
       "      <th>5</th>\n",
       "      <td>Bela Vista</td>\n",
       "      <td>255000.0</td>\n",
       "      <td>vende-se studio mobiliado ao lado da avenida p...</td>\n",
       "      <td>1</td>\n",
       "      <td>0</td>\n",
       "      <td>0</td>\n",
       "      <td>30.0</td>\n",
       "      <td>272</td>\n",
       "    </tr>\n",
       "    <tr>\n",
       "      <th>6</th>\n",
       "      <td>Bela Vista</td>\n",
       "      <td>290000.0</td>\n",
       "      <td>Belo apartamento situado na região da Bela Vis...</td>\n",
       "      <td>1</td>\n",
       "      <td>0</td>\n",
       "      <td>0</td>\n",
       "      <td>39.0</td>\n",
       "      <td>67</td>\n",
       "    </tr>\n",
       "    <tr>\n",
       "      <th>7</th>\n",
       "      <td>Bela Vista</td>\n",
       "      <td>300000.0</td>\n",
       "      <td>W. 158</td>\n",
       "      <td>2</td>\n",
       "      <td>0</td>\n",
       "      <td>0</td>\n",
       "      <td>39.0</td>\n",
       "      <td>158</td>\n",
       "    </tr>\n",
       "    <tr>\n",
       "      <th>8</th>\n",
       "      <td>Bela Vista</td>\n",
       "      <td>320000.0</td>\n",
       "      <td>Temos para você uma ótima oportunidade de apê ...</td>\n",
       "      <td>0</td>\n",
       "      <td>0</td>\n",
       "      <td>1</td>\n",
       "      <td>28.0</td>\n",
       "      <td>48</td>\n",
       "    </tr>\n",
       "    <tr>\n",
       "      <th>9</th>\n",
       "      <td>Bela Vista</td>\n",
       "      <td>357000.0</td>\n",
       "      <td>Apartamento Kitnet - Bela Vista \\r\\n\\r\\nAo lad...</td>\n",
       "      <td>0</td>\n",
       "      <td>0</td>\n",
       "      <td>0</td>\n",
       "      <td>46.0</td>\n",
       "      <td>265</td>\n",
       "    </tr>\n",
       "    <tr>\n",
       "      <th>10</th>\n",
       "      <td>Bela Vista</td>\n",
       "      <td>375000.0</td>\n",
       "      <td>W. 194\\r\\n \\r\\nApartamento à venda próximo ao ...</td>\n",
       "      <td>1</td>\n",
       "      <td>1</td>\n",
       "      <td>0</td>\n",
       "      <td>45.0</td>\n",
       "      <td>194</td>\n",
       "    </tr>\n",
       "    <tr>\n",
       "      <th>11</th>\n",
       "      <td>Bela Vista</td>\n",
       "      <td>415000.0</td>\n",
       "      <td>Apartamento reformado living p/ 2 ambientes. \\...</td>\n",
       "      <td>1</td>\n",
       "      <td>0</td>\n",
       "      <td>1</td>\n",
       "      <td>36.0</td>\n",
       "      <td>198</td>\n",
       "    </tr>\n",
       "    <tr>\n",
       "      <th>12</th>\n",
       "      <td>Bela Vista</td>\n",
       "      <td>475000.0</td>\n",
       "      <td>I.S codigo 397\\r\\nLOCAÇÃO : 2.500,00Condomínio...</td>\n",
       "      <td>1</td>\n",
       "      <td>0</td>\n",
       "      <td>1</td>\n",
       "      <td>40.0</td>\n",
       "      <td>397</td>\n",
       "    </tr>\n",
       "    <tr>\n",
       "      <th>13</th>\n",
       "      <td>Bela Vista</td>\n",
       "      <td>489000.0</td>\n",
       "      <td>W. 199\\r\\nO Apartamento está no bairro da Bela...</td>\n",
       "      <td>3</td>\n",
       "      <td>1</td>\n",
       "      <td>1</td>\n",
       "      <td>90.0</td>\n",
       "      <td>199</td>\n",
       "    </tr>\n",
       "    <tr>\n",
       "      <th>14</th>\n",
       "      <td>Bela Vista</td>\n",
       "      <td>520000.0</td>\n",
       "      <td>I.S codigo 475\\r\\nVende-se Apartamento com Arm...</td>\n",
       "      <td>1</td>\n",
       "      <td>0</td>\n",
       "      <td>1</td>\n",
       "      <td>48.0</td>\n",
       "      <td>475</td>\n",
       "    </tr>\n",
       "  </tbody>\n",
       "</table>\n",
       "</div>"
      ],
      "text/plain": [
       "           nome     valor                                          descricao  \\\n",
       "0   Água Branca  700000.0  Descrição do Apto:\\r\\n63m² de área útil\\r\\n114...   \n",
       "1   Água Branca  905000.0                   Varanda Gourmet e Lazer completo   \n",
       "2   Barra Funda  340000.0  Apartamento com dois dormitórios, sala, cozinh...   \n",
       "3   Barra Funda  530000.0                                                      \n",
       "4    Bela Vista  200000.0  Apartamento tipo studio na avenida 9 de julho ...   \n",
       "5    Bela Vista  255000.0  vende-se studio mobiliado ao lado da avenida p...   \n",
       "6    Bela Vista  290000.0  Belo apartamento situado na região da Bela Vis...   \n",
       "7    Bela Vista  300000.0                                             W. 158   \n",
       "8    Bela Vista  320000.0  Temos para você uma ótima oportunidade de apê ...   \n",
       "9    Bela Vista  357000.0  Apartamento Kitnet - Bela Vista \\r\\n\\r\\nAo lad...   \n",
       "10   Bela Vista  375000.0  W. 194\\r\\n \\r\\nApartamento à venda próximo ao ...   \n",
       "11   Bela Vista  415000.0  Apartamento reformado living p/ 2 ambientes. \\...   \n",
       "12   Bela Vista  475000.0  I.S codigo 397\\r\\nLOCAÇÃO : 2.500,00Condomínio...   \n",
       "13   Bela Vista  489000.0  W. 199\\r\\nO Apartamento está no bairro da Bela...   \n",
       "14   Bela Vista  520000.0  I.S codigo 475\\r\\nVende-se Apartamento com Arm...   \n",
       "\n",
       "    quartos  banheiros  vagas  area  codigo  \n",
       "0         2          1      2  63.0     249  \n",
       "1         3          0      0   0.0     252  \n",
       "2         2          0      0  86.0      26  \n",
       "3         2          1      0  66.0      34  \n",
       "4         0          0      0   0.0     421  \n",
       "5         1          0      0  30.0     272  \n",
       "6         1          0      0  39.0      67  \n",
       "7         2          0      0  39.0     158  \n",
       "8         0          0      1  28.0      48  \n",
       "9         0          0      0  46.0     265  \n",
       "10        1          1      0  45.0     194  \n",
       "11        1          0      1  36.0     198  \n",
       "12        1          0      1  40.0     397  \n",
       "13        3          1      1  90.0     199  \n",
       "14        1          0      1  48.0     475  "
      ]
     },
     "execution_count": 19,
     "metadata": {},
     "output_type": "execute_result"
    }
   ],
   "source": [
    "df.head(15)"
   ]
  },
  {
   "cell_type": "code",
   "execution_count": 20,
   "metadata": {
    "ExecuteTime": {
     "end_time": "2019-07-02T22:55:23.715328Z",
     "start_time": "2019-07-02T22:55:23.707331Z"
    }
   },
   "outputs": [
    {
     "data": {
      "text/plain": [
       "nome          object\n",
       "valor        float64\n",
       "descricao     object\n",
       "quartos        int64\n",
       "banheiros      int64\n",
       "vagas          int64\n",
       "area         float64\n",
       "codigo         int64\n",
       "dtype: object"
      ]
     },
     "execution_count": 20,
     "metadata": {},
     "output_type": "execute_result"
    }
   ],
   "source": [
    "df.dtypes"
   ]
  },
  {
   "cell_type": "markdown",
   "metadata": {},
   "source": [
    "# PAGINANDO"
   ]
  },
  {
   "cell_type": "code",
   "execution_count": 21,
   "metadata": {
    "ExecuteTime": {
     "end_time": "2019-07-02T22:55:23.727325Z",
     "start_time": "2019-07-02T22:55:23.715328Z"
    }
   },
   "outputs": [
    {
     "data": {
      "text/plain": [
       "['1', '2', '3', '4', '5']"
      ]
     },
     "execution_count": 21,
     "metadata": {},
     "output_type": "execute_result"
    }
   ],
   "source": [
    "paginas = [str(i) for i in range(1,6)]\n",
    "paginas"
   ]
  },
  {
   "cell_type": "markdown",
   "metadata": {},
   "source": [
    "### Testando o endereço"
   ]
  },
  {
   "cell_type": "code",
   "execution_count": 22,
   "metadata": {
    "ExecuteTime": {
     "end_time": "2019-07-02T22:55:28.824993Z",
     "start_time": "2019-07-02T22:55:23.731325Z"
    }
   },
   "outputs": [
    {
     "name": "stdout",
     "output_type": "stream",
     "text": [
      "<Response [200]> 1 http://www.imoveisnocentrosp.com.br/buscar?page=1&venda=Sim\n",
      "<Response [200]> 2 http://www.imoveisnocentrosp.com.br/buscar?page=2&venda=Sim\n",
      "<Response [200]> 3 http://www.imoveisnocentrosp.com.br/buscar?page=3&venda=Sim\n",
      "<Response [200]> 4 http://www.imoveisnocentrosp.com.br/buscar?page=4&venda=Sim\n",
      "<Response [200]> 5 http://www.imoveisnocentrosp.com.br/buscar?page=5&venda=Sim\n"
     ]
    }
   ],
   "source": [
    "for page in paginas:\n",
    "    \n",
    "    response = get('http://www.imoveisnocentrosp.com.br/buscar?page=' + page + '&venda=Sim')\n",
    "    print(response, page, 'http://www.imoveisnocentrosp.com.br/buscar?page=' + page + '&venda=Sim')"
   ]
  },
  {
   "cell_type": "markdown",
   "metadata": {},
   "source": [
    "### Função para coleta das páginas"
   ]
  },
  {
   "cell_type": "code",
   "execution_count": 23,
   "metadata": {
    "ExecuteTime": {
     "end_time": "2019-07-02T22:57:21.530805Z",
     "start_time": "2019-07-02T22:55:28.828992Z"
    }
   },
   "outputs": [
    {
     "name": "stdout",
     "output_type": "stream",
     "text": [
      "<Response [200]> 1 http://www.imoveisnocentrosp.com.br/buscar?page=1&venda=Sim\n",
      "<Response [200]> 2 http://www.imoveisnocentrosp.com.br/buscar?page=2&venda=Sim\n",
      "<Response [200]> 3 http://www.imoveisnocentrosp.com.br/buscar?page=3&venda=Sim\n",
      "<Response [200]> 4 http://www.imoveisnocentrosp.com.br/buscar?page=4&venda=Sim\n",
      "<Response [200]> 5 http://www.imoveisnocentrosp.com.br/buscar?page=5&venda=Sim\n"
     ]
    }
   ],
   "source": [
    "names = []\n",
    "values = []\n",
    "descriptions = []\n",
    "bedrooms = []\n",
    "bathrooms = []\n",
    "parking_spots = []\n",
    "area = []\n",
    "codigo = []\n",
    "\n",
    "for page in paginas:\n",
    "    \n",
    "    response = get('http://www.imoveisnocentrosp.com.br/buscar?page=' + page + '&venda=Sim')\n",
    "    \n",
    "    sleep(randint(10,30))\n",
    "     \n",
    "    page_html = BeautifulSoup(response.content, 'html.parser')\n",
    "    \n",
    "    imoveis_centro = page_html.find('div', class_='tm-property__wrap').find_all('div',  class_='tm-property__item')\n",
    "    \n",
    "    for container in imoveis_centro: \n",
    "        name = container.find('h6',  class_='tm-property__title').text.strip()\n",
    "        names.append(name)    \n",
    "    \n",
    "        value = float(container.find('h6', class_='tm-property__price').text.strip().replace(\"R$ \",\"\").replace(\".\",\"\").replace(\",\",\".\"))\n",
    "        values.append(value) \n",
    "    \n",
    "        description = container.find('div', class_='tm-property__excerpt').text.strip()\n",
    "        descriptions.append(description)    \n",
    "        \n",
    "        cod = int(container.find('div', class_='tm-property__code').text.strip().replace(\"Cód. \",\"\"))\n",
    "        codigo.append(cod) \n",
    "    \n",
    "        if container.find('div', class_='tm-property__attributes') is not None:\n",
    "            \n",
    "            if container.find('span', class_='tm-property__attributes-bedrooms') is not None:\n",
    "                bedroom =  int(container.find('span', class_='tm-property__attributes-bedrooms').text.strip())\n",
    "                bedrooms.append(bedroom)\n",
    "            else:\n",
    "                bedroom = 0\n",
    "                bedrooms.append(bedroom)\n",
    "        \n",
    "            if container.find('span', class_='tm-property__attributes-bathrooms') is not None:\n",
    "                bathroom =  int(container.find('span', class_='tm-property__attributes-bathrooms').text.strip())\n",
    "                bathrooms.append(bathroom)\n",
    "            else:\n",
    "                bathroom = 0\n",
    "                bathrooms.append(bathroom) \n",
    "        \n",
    "            if container.find('span', class_='tm-property__attributes-parking-spot') is not None:\n",
    "                parking_spot =  int(container.find('span', class_='tm-property__attributes-parking-spot').text.strip())\n",
    "                parking_spots.append(parking_spot)\n",
    "            else:\n",
    "                parking_spot = 0\n",
    "                parking_spots.append(parking_spot)\n",
    "\n",
    "            if container.find('span', class_='tm-property__attributes-area') is not None:\n",
    "                area2 =  float(container.find('span', class_='tm-property__attributes-area').text.strip().replace(\" m²\",\"\"))\n",
    "                area.append(area2)\n",
    "            else:\n",
    "                area2 = 0\n",
    "                area.append(area2)\n",
    "\n",
    "    print(response, page, 'http://www.imoveisnocentrosp.com.br/buscar?page=' + page + '&venda=Sim')    \n",
    "           "
   ]
  },
  {
   "cell_type": "markdown",
   "metadata": {},
   "source": [
    "# Criando DataFrame paginado"
   ]
  },
  {
   "cell_type": "code",
   "execution_count": 24,
   "metadata": {
    "ExecuteTime": {
     "end_time": "2019-07-02T22:57:21.546653Z",
     "start_time": "2019-07-02T22:57:21.530805Z"
    }
   },
   "outputs": [],
   "source": [
    "df_paginado = pd.DataFrame({'nome':names,\n",
    "                   'valor':values, \n",
    "                   'descricao': descriptions, \n",
    "                   'quartos': bedrooms,\n",
    "                   'banheiros':bathrooms,\n",
    "                   'vagas':parking_spots,\n",
    "                   'area':area,\n",
    "                   'codigo':codigo\n",
    "                  })"
   ]
  },
  {
   "cell_type": "code",
   "execution_count": 25,
   "metadata": {
    "ExecuteTime": {
     "end_time": "2019-07-02T22:57:21.666777Z",
     "start_time": "2019-07-02T22:57:21.546653Z"
    }
   },
   "outputs": [
    {
     "data": {
      "text/html": [
       "<div>\n",
       "<style scoped>\n",
       "    .dataframe tbody tr th:only-of-type {\n",
       "        vertical-align: middle;\n",
       "    }\n",
       "\n",
       "    .dataframe tbody tr th {\n",
       "        vertical-align: top;\n",
       "    }\n",
       "\n",
       "    .dataframe thead th {\n",
       "        text-align: right;\n",
       "    }\n",
       "</style>\n",
       "<table border=\"1\" class=\"dataframe\">\n",
       "  <thead>\n",
       "    <tr style=\"text-align: right;\">\n",
       "      <th></th>\n",
       "      <th>nome</th>\n",
       "      <th>valor</th>\n",
       "      <th>descricao</th>\n",
       "      <th>quartos</th>\n",
       "      <th>banheiros</th>\n",
       "      <th>vagas</th>\n",
       "      <th>area</th>\n",
       "      <th>codigo</th>\n",
       "    </tr>\n",
       "  </thead>\n",
       "  <tbody>\n",
       "    <tr>\n",
       "      <th>0</th>\n",
       "      <td>Água Branca</td>\n",
       "      <td>700000.0</td>\n",
       "      <td>Descrição do Apto:\\r\\n63m² de área útil\\r\\n114...</td>\n",
       "      <td>2</td>\n",
       "      <td>1</td>\n",
       "      <td>2</td>\n",
       "      <td>63.0</td>\n",
       "      <td>249</td>\n",
       "    </tr>\n",
       "    <tr>\n",
       "      <th>1</th>\n",
       "      <td>Água Branca</td>\n",
       "      <td>905000.0</td>\n",
       "      <td>Varanda Gourmet e Lazer completo</td>\n",
       "      <td>3</td>\n",
       "      <td>0</td>\n",
       "      <td>0</td>\n",
       "      <td>0.0</td>\n",
       "      <td>252</td>\n",
       "    </tr>\n",
       "    <tr>\n",
       "      <th>2</th>\n",
       "      <td>Barra Funda</td>\n",
       "      <td>340000.0</td>\n",
       "      <td>Apartamento com dois dormitórios, sala, cozinh...</td>\n",
       "      <td>2</td>\n",
       "      <td>0</td>\n",
       "      <td>0</td>\n",
       "      <td>86.0</td>\n",
       "      <td>26</td>\n",
       "    </tr>\n",
       "    <tr>\n",
       "      <th>3</th>\n",
       "      <td>Barra Funda</td>\n",
       "      <td>530000.0</td>\n",
       "      <td></td>\n",
       "      <td>2</td>\n",
       "      <td>1</td>\n",
       "      <td>0</td>\n",
       "      <td>66.0</td>\n",
       "      <td>34</td>\n",
       "    </tr>\n",
       "    <tr>\n",
       "      <th>4</th>\n",
       "      <td>Bela Vista</td>\n",
       "      <td>200000.0</td>\n",
       "      <td>Apartamento tipo studio na avenida 9 de julho ...</td>\n",
       "      <td>0</td>\n",
       "      <td>0</td>\n",
       "      <td>0</td>\n",
       "      <td>0.0</td>\n",
       "      <td>421</td>\n",
       "    </tr>\n",
       "    <tr>\n",
       "      <th>5</th>\n",
       "      <td>Bela Vista</td>\n",
       "      <td>255000.0</td>\n",
       "      <td>vende-se studio mobiliado ao lado da avenida p...</td>\n",
       "      <td>1</td>\n",
       "      <td>0</td>\n",
       "      <td>0</td>\n",
       "      <td>30.0</td>\n",
       "      <td>272</td>\n",
       "    </tr>\n",
       "    <tr>\n",
       "      <th>6</th>\n",
       "      <td>Bela Vista</td>\n",
       "      <td>290000.0</td>\n",
       "      <td>Belo apartamento situado na região da Bela Vis...</td>\n",
       "      <td>1</td>\n",
       "      <td>0</td>\n",
       "      <td>0</td>\n",
       "      <td>39.0</td>\n",
       "      <td>67</td>\n",
       "    </tr>\n",
       "    <tr>\n",
       "      <th>7</th>\n",
       "      <td>Bela Vista</td>\n",
       "      <td>300000.0</td>\n",
       "      <td>W. 158</td>\n",
       "      <td>2</td>\n",
       "      <td>0</td>\n",
       "      <td>0</td>\n",
       "      <td>39.0</td>\n",
       "      <td>158</td>\n",
       "    </tr>\n",
       "    <tr>\n",
       "      <th>8</th>\n",
       "      <td>Bela Vista</td>\n",
       "      <td>320000.0</td>\n",
       "      <td>Temos para você uma ótima oportunidade de apê ...</td>\n",
       "      <td>0</td>\n",
       "      <td>0</td>\n",
       "      <td>1</td>\n",
       "      <td>28.0</td>\n",
       "      <td>48</td>\n",
       "    </tr>\n",
       "    <tr>\n",
       "      <th>9</th>\n",
       "      <td>Bela Vista</td>\n",
       "      <td>357000.0</td>\n",
       "      <td>Apartamento Kitnet - Bela Vista \\r\\n\\r\\nAo lad...</td>\n",
       "      <td>0</td>\n",
       "      <td>0</td>\n",
       "      <td>0</td>\n",
       "      <td>46.0</td>\n",
       "      <td>265</td>\n",
       "    </tr>\n",
       "    <tr>\n",
       "      <th>10</th>\n",
       "      <td>Bela Vista</td>\n",
       "      <td>375000.0</td>\n",
       "      <td>W. 194\\r\\n \\r\\nApartamento à venda próximo ao ...</td>\n",
       "      <td>1</td>\n",
       "      <td>1</td>\n",
       "      <td>0</td>\n",
       "      <td>45.0</td>\n",
       "      <td>194</td>\n",
       "    </tr>\n",
       "    <tr>\n",
       "      <th>11</th>\n",
       "      <td>Bela Vista</td>\n",
       "      <td>415000.0</td>\n",
       "      <td>Apartamento reformado living p/ 2 ambientes. \\...</td>\n",
       "      <td>1</td>\n",
       "      <td>0</td>\n",
       "      <td>1</td>\n",
       "      <td>36.0</td>\n",
       "      <td>198</td>\n",
       "    </tr>\n",
       "    <tr>\n",
       "      <th>12</th>\n",
       "      <td>Bela Vista</td>\n",
       "      <td>475000.0</td>\n",
       "      <td>I.S codigo 397\\r\\nLOCAÇÃO : 2.500,00Condomínio...</td>\n",
       "      <td>1</td>\n",
       "      <td>0</td>\n",
       "      <td>1</td>\n",
       "      <td>40.0</td>\n",
       "      <td>397</td>\n",
       "    </tr>\n",
       "    <tr>\n",
       "      <th>13</th>\n",
       "      <td>Bela Vista</td>\n",
       "      <td>489000.0</td>\n",
       "      <td>W. 199\\r\\nO Apartamento está no bairro da Bela...</td>\n",
       "      <td>3</td>\n",
       "      <td>1</td>\n",
       "      <td>1</td>\n",
       "      <td>90.0</td>\n",
       "      <td>199</td>\n",
       "    </tr>\n",
       "    <tr>\n",
       "      <th>14</th>\n",
       "      <td>Bela Vista</td>\n",
       "      <td>520000.0</td>\n",
       "      <td>I.S codigo 475\\r\\nVende-se Apartamento com Arm...</td>\n",
       "      <td>1</td>\n",
       "      <td>0</td>\n",
       "      <td>1</td>\n",
       "      <td>48.0</td>\n",
       "      <td>475</td>\n",
       "    </tr>\n",
       "    <tr>\n",
       "      <th>15</th>\n",
       "      <td>Bela Vista</td>\n",
       "      <td>590000.0</td>\n",
       "      <td></td>\n",
       "      <td>2</td>\n",
       "      <td>1</td>\n",
       "      <td>0</td>\n",
       "      <td>60.0</td>\n",
       "      <td>82</td>\n",
       "    </tr>\n",
       "    <tr>\n",
       "      <th>16</th>\n",
       "      <td>Bela Vista</td>\n",
       "      <td>630000.0</td>\n",
       "      <td></td>\n",
       "      <td>2</td>\n",
       "      <td>0</td>\n",
       "      <td>1</td>\n",
       "      <td>72.0</td>\n",
       "      <td>65</td>\n",
       "    </tr>\n",
       "    <tr>\n",
       "      <th>17</th>\n",
       "      <td>Bela Vista</td>\n",
       "      <td>650000.0</td>\n",
       "      <td>Descrição\\r\\n1 Vaga 50m² de área útil \\r\\n2 Do...</td>\n",
       "      <td>2</td>\n",
       "      <td>0</td>\n",
       "      <td>1</td>\n",
       "      <td>50.0</td>\n",
       "      <td>190</td>\n",
       "    </tr>\n",
       "    <tr>\n",
       "      <th>18</th>\n",
       "      <td>Bela Vista</td>\n",
       "      <td>1200000.0</td>\n",
       "      <td>F.S. 66Lindo sobrado com 2 vagas de garagem, á...</td>\n",
       "      <td>3</td>\n",
       "      <td>0</td>\n",
       "      <td>2</td>\n",
       "      <td>290.0</td>\n",
       "      <td>66</td>\n",
       "    </tr>\n",
       "    <tr>\n",
       "      <th>19</th>\n",
       "      <td>Bom Retiro</td>\n",
       "      <td>450000.0</td>\n",
       "      <td>J.A codigo 466\\r\\num apartamento no Bom Retiro...</td>\n",
       "      <td>2</td>\n",
       "      <td>1</td>\n",
       "      <td>1</td>\n",
       "      <td>57.0</td>\n",
       "      <td>466</td>\n",
       "    </tr>\n",
       "    <tr>\n",
       "      <th>20</th>\n",
       "      <td>Brás</td>\n",
       "      <td>210000.0</td>\n",
       "      <td>Apartamento tipo Studio, muito próximo ao metr...</td>\n",
       "      <td>1</td>\n",
       "      <td>1</td>\n",
       "      <td>0</td>\n",
       "      <td>30.0</td>\n",
       "      <td>384</td>\n",
       "    </tr>\n",
       "    <tr>\n",
       "      <th>21</th>\n",
       "      <td>Brás</td>\n",
       "      <td>280000.0</td>\n",
       "      <td>Apartamento a venda em frente a estação CPTM  ...</td>\n",
       "      <td>2</td>\n",
       "      <td>0</td>\n",
       "      <td>1</td>\n",
       "      <td>50.0</td>\n",
       "      <td>284</td>\n",
       "    </tr>\n",
       "    <tr>\n",
       "      <th>22</th>\n",
       "      <td>Campos Elíseos</td>\n",
       "      <td>240000.0</td>\n",
       "      <td>Código - N.S/W.O.302\\r\\nApartamento lindo para...</td>\n",
       "      <td>1</td>\n",
       "      <td>0</td>\n",
       "      <td>0</td>\n",
       "      <td>45.0</td>\n",
       "      <td>302</td>\n",
       "    </tr>\n",
       "    <tr>\n",
       "      <th>23</th>\n",
       "      <td>Campos Elíseos</td>\n",
       "      <td>243000.0</td>\n",
       "      <td>apartamento a venda próximo ao terminal de ôni...</td>\n",
       "      <td>1</td>\n",
       "      <td>0</td>\n",
       "      <td>0</td>\n",
       "      <td>53.0</td>\n",
       "      <td>282</td>\n",
       "    </tr>\n",
       "    <tr>\n",
       "      <th>24</th>\n",
       "      <td>Campos Elíseos</td>\n",
       "      <td>305000.0</td>\n",
       "      <td></td>\n",
       "      <td>1</td>\n",
       "      <td>0</td>\n",
       "      <td>0</td>\n",
       "      <td>61.0</td>\n",
       "      <td>147</td>\n",
       "    </tr>\n",
       "    <tr>\n",
       "      <th>25</th>\n",
       "      <td>Campos Elíseos</td>\n",
       "      <td>330000.0</td>\n",
       "      <td></td>\n",
       "      <td>2</td>\n",
       "      <td>0</td>\n",
       "      <td>0</td>\n",
       "      <td>54.0</td>\n",
       "      <td>55</td>\n",
       "    </tr>\n",
       "    <tr>\n",
       "      <th>26</th>\n",
       "      <td>Campos Elíseos</td>\n",
       "      <td>330000.0</td>\n",
       "      <td>Prédio com hall e bicicletário. \\r\\nPortão dig...</td>\n",
       "      <td>2</td>\n",
       "      <td>0</td>\n",
       "      <td>0</td>\n",
       "      <td>65.0</td>\n",
       "      <td>215</td>\n",
       "    </tr>\n",
       "    <tr>\n",
       "      <th>27</th>\n",
       "      <td>Campos Elíseos</td>\n",
       "      <td>350000.0</td>\n",
       "      <td>CÓDIGO - W.O.181\\r\\n3 dormitórios, sala, cozin...</td>\n",
       "      <td>3</td>\n",
       "      <td>1</td>\n",
       "      <td>0</td>\n",
       "      <td>98.0</td>\n",
       "      <td>181</td>\n",
       "    </tr>\n",
       "    <tr>\n",
       "      <th>28</th>\n",
       "      <td>Campos Elíseos</td>\n",
       "      <td>350000.0</td>\n",
       "      <td>ÓTIMO APARTAMENTO A VENDA PROXIMO O BAR BRAMA!...</td>\n",
       "      <td>2</td>\n",
       "      <td>0</td>\n",
       "      <td>0</td>\n",
       "      <td>41.0</td>\n",
       "      <td>478</td>\n",
       "    </tr>\n",
       "    <tr>\n",
       "      <th>29</th>\n",
       "      <td>Campos Elíseos</td>\n",
       "      <td>360000.0</td>\n",
       "      <td>Apartamento totalmente equipado , estrategicam...</td>\n",
       "      <td>1</td>\n",
       "      <td>0</td>\n",
       "      <td>0</td>\n",
       "      <td>27.0</td>\n",
       "      <td>446</td>\n",
       "    </tr>\n",
       "    <tr>\n",
       "      <th>...</th>\n",
       "      <td>...</td>\n",
       "      <td>...</td>\n",
       "      <td>...</td>\n",
       "      <td>...</td>\n",
       "      <td>...</td>\n",
       "      <td>...</td>\n",
       "      <td>...</td>\n",
       "      <td>...</td>\n",
       "    </tr>\n",
       "    <tr>\n",
       "      <th>45</th>\n",
       "      <td>Centro</td>\n",
       "      <td>220000.0</td>\n",
       "      <td>F,L // Apartamento amplo com living para dois ...</td>\n",
       "      <td>1</td>\n",
       "      <td>0</td>\n",
       "      <td>0</td>\n",
       "      <td>45.0</td>\n",
       "      <td>468</td>\n",
       "    </tr>\n",
       "    <tr>\n",
       "      <th>46</th>\n",
       "      <td>Centro</td>\n",
       "      <td>225000.0</td>\n",
       "      <td>Código - F.M.307\\r\\nLindo studio pra venda no ...</td>\n",
       "      <td>0</td>\n",
       "      <td>1</td>\n",
       "      <td>0</td>\n",
       "      <td>22.0</td>\n",
       "      <td>307</td>\n",
       "    </tr>\n",
       "    <tr>\n",
       "      <th>47</th>\n",
       "      <td>centro</td>\n",
       "      <td>250000.0</td>\n",
       "      <td>W.O .   Cod : 308   \\r\\nkit Reformada  com esp...</td>\n",
       "      <td>1</td>\n",
       "      <td>0</td>\n",
       "      <td>0</td>\n",
       "      <td>0.0</td>\n",
       "      <td>308</td>\n",
       "    </tr>\n",
       "    <tr>\n",
       "      <th>48</th>\n",
       "      <td>Centro</td>\n",
       "      <td>258000.0</td>\n",
       "      <td></td>\n",
       "      <td>0</td>\n",
       "      <td>0</td>\n",
       "      <td>0</td>\n",
       "      <td>0.0</td>\n",
       "      <td>379</td>\n",
       "    </tr>\n",
       "    <tr>\n",
       "      <th>49</th>\n",
       "      <td>Centro</td>\n",
       "      <td>265000.0</td>\n",
       "      <td>Apartamento na Avenida São João, próximo a Est...</td>\n",
       "      <td>1</td>\n",
       "      <td>0</td>\n",
       "      <td>0</td>\n",
       "      <td>50.0</td>\n",
       "      <td>309</td>\n",
       "    </tr>\n",
       "    <tr>\n",
       "      <th>50</th>\n",
       "      <td>Centro</td>\n",
       "      <td>265000.0</td>\n",
       "      <td>Código - N.S.331\\r\\nApartamento lindo e reform...</td>\n",
       "      <td>1</td>\n",
       "      <td>0</td>\n",
       "      <td>1</td>\n",
       "      <td>0.0</td>\n",
       "      <td>331</td>\n",
       "    </tr>\n",
       "    <tr>\n",
       "      <th>51</th>\n",
       "      <td>Centro</td>\n",
       "      <td>273000.0</td>\n",
       "      <td>Código - I.S.342\\r\\nÓtimo imóvel no Centro de ...</td>\n",
       "      <td>1</td>\n",
       "      <td>0</td>\n",
       "      <td>0</td>\n",
       "      <td>70.0</td>\n",
       "      <td>342</td>\n",
       "    </tr>\n",
       "    <tr>\n",
       "      <th>52</th>\n",
       "      <td>Centro</td>\n",
       "      <td>296500.0</td>\n",
       "      <td>L.L.53\\r\\nApartamento lindo reformado próximo ...</td>\n",
       "      <td>1</td>\n",
       "      <td>0</td>\n",
       "      <td>0</td>\n",
       "      <td>40.0</td>\n",
       "      <td>53</td>\n",
       "    </tr>\n",
       "    <tr>\n",
       "      <th>53</th>\n",
       "      <td>Centro</td>\n",
       "      <td>320000.0</td>\n",
       "      <td>sala comercial ao lado do metro república ,aba...</td>\n",
       "      <td>0</td>\n",
       "      <td>0</td>\n",
       "      <td>0</td>\n",
       "      <td>142.0</td>\n",
       "      <td>239</td>\n",
       "    </tr>\n",
       "    <tr>\n",
       "      <th>54</th>\n",
       "      <td>Centro</td>\n",
       "      <td>350000.0</td>\n",
       "      <td>Código - I.S.359\\r\\nBelo apartamento na Av. 9 ...</td>\n",
       "      <td>1</td>\n",
       "      <td>0</td>\n",
       "      <td>0</td>\n",
       "      <td>37.0</td>\n",
       "      <td>359</td>\n",
       "    </tr>\n",
       "    <tr>\n",
       "      <th>55</th>\n",
       "      <td>Centro</td>\n",
       "      <td>380000.0</td>\n",
       "      <td>I.S codigo 442\\r\\nApartamento todo reformado\\r...</td>\n",
       "      <td>2</td>\n",
       "      <td>0</td>\n",
       "      <td>0</td>\n",
       "      <td>80.0</td>\n",
       "      <td>442</td>\n",
       "    </tr>\n",
       "    <tr>\n",
       "      <th>56</th>\n",
       "      <td>Centro</td>\n",
       "      <td>400000.0</td>\n",
       "      <td>CÓDIGO - W.O.300  \\r\\n   Ótimo apartamento á V...</td>\n",
       "      <td>1</td>\n",
       "      <td>0</td>\n",
       "      <td>1</td>\n",
       "      <td>0.0</td>\n",
       "      <td>300</td>\n",
       "    </tr>\n",
       "    <tr>\n",
       "      <th>57</th>\n",
       "      <td>Centro</td>\n",
       "      <td>400000.0</td>\n",
       "      <td>Código - L.C.362\\r\\nApartamento tipo Studio, c...</td>\n",
       "      <td>1</td>\n",
       "      <td>1</td>\n",
       "      <td>1</td>\n",
       "      <td>33.0</td>\n",
       "      <td>362</td>\n",
       "    </tr>\n",
       "    <tr>\n",
       "      <th>58</th>\n",
       "      <td>Centro</td>\n",
       "      <td>500000.0</td>\n",
       "      <td>ótimo apartamento na Rua Do Arouche literalmet...</td>\n",
       "      <td>1</td>\n",
       "      <td>1</td>\n",
       "      <td>0</td>\n",
       "      <td>77.0</td>\n",
       "      <td>393</td>\n",
       "    </tr>\n",
       "    <tr>\n",
       "      <th>59</th>\n",
       "      <td>Centro</td>\n",
       "      <td>1150000.0</td>\n",
       "      <td>Código - N.S.345\\r\\nLINDO APARTAMENTO DUPLEX, ...</td>\n",
       "      <td>3</td>\n",
       "      <td>0</td>\n",
       "      <td>1</td>\n",
       "      <td>105.0</td>\n",
       "      <td>345</td>\n",
       "    </tr>\n",
       "    <tr>\n",
       "      <th>60</th>\n",
       "      <td>Centro</td>\n",
       "      <td>1150000.0</td>\n",
       "      <td>W. 141</td>\n",
       "      <td>3</td>\n",
       "      <td>1</td>\n",
       "      <td>0</td>\n",
       "      <td>192.0</td>\n",
       "      <td>141</td>\n",
       "    </tr>\n",
       "    <tr>\n",
       "      <th>61</th>\n",
       "      <td>Centro</td>\n",
       "      <td>1500000.0</td>\n",
       "      <td>Código - F.M.341\\r\\nBelo apartamento reformado...</td>\n",
       "      <td>3</td>\n",
       "      <td>0</td>\n",
       "      <td>0</td>\n",
       "      <td>260.0</td>\n",
       "      <td>341</td>\n",
       "    </tr>\n",
       "    <tr>\n",
       "      <th>62</th>\n",
       "      <td>Cerqueira César</td>\n",
       "      <td>970000.0</td>\n",
       "      <td>COD WO41\\r\\nExcelente apartamento na Alameda S...</td>\n",
       "      <td>4</td>\n",
       "      <td>1</td>\n",
       "      <td>0</td>\n",
       "      <td>0.0</td>\n",
       "      <td>41</td>\n",
       "    </tr>\n",
       "    <tr>\n",
       "      <th>63</th>\n",
       "      <td>Chácara Califórnia</td>\n",
       "      <td>850000.0</td>\n",
       "      <td>Apartamento possui , 110m² com vaga de garagem...</td>\n",
       "      <td>3</td>\n",
       "      <td>0</td>\n",
       "      <td>1</td>\n",
       "      <td>110.0</td>\n",
       "      <td>436</td>\n",
       "    </tr>\n",
       "    <tr>\n",
       "      <th>64</th>\n",
       "      <td>Conjunto Promorar Vila Maria III</td>\n",
       "      <td>600000.0</td>\n",
       "      <td>I.S codigo 404                                ...</td>\n",
       "      <td>3</td>\n",
       "      <td>1</td>\n",
       "      <td>0</td>\n",
       "      <td>100.0</td>\n",
       "      <td>404</td>\n",
       "    </tr>\n",
       "    <tr>\n",
       "      <th>65</th>\n",
       "      <td>Consolação</td>\n",
       "      <td>380000.0</td>\n",
       "      <td>COD W.294\\r\\nLINDO APARTAMENTO DE 50m² (1 DORM...</td>\n",
       "      <td>1</td>\n",
       "      <td>0</td>\n",
       "      <td>0</td>\n",
       "      <td>0.0</td>\n",
       "      <td>294</td>\n",
       "    </tr>\n",
       "    <tr>\n",
       "      <th>66</th>\n",
       "      <td>Consolação</td>\n",
       "      <td>420000.0</td>\n",
       "      <td>Código - N.S.310\\r\\nApartamento lindo rico em ...</td>\n",
       "      <td>2</td>\n",
       "      <td>0</td>\n",
       "      <td>2</td>\n",
       "      <td>50.0</td>\n",
       "      <td>310</td>\n",
       "    </tr>\n",
       "    <tr>\n",
       "      <th>67</th>\n",
       "      <td>Consolação</td>\n",
       "      <td>830000.0</td>\n",
       "      <td>Descrição\\r\\n87m² de área útil\\r\\n2 Dormitório...</td>\n",
       "      <td>2</td>\n",
       "      <td>2</td>\n",
       "      <td>1</td>\n",
       "      <td>87.0</td>\n",
       "      <td>251</td>\n",
       "    </tr>\n",
       "    <tr>\n",
       "      <th>68</th>\n",
       "      <td>Consolação</td>\n",
       "      <td>900054.0</td>\n",
       "      <td>Apto com 107 m² , bem arejado. 3 quartos2 apar...</td>\n",
       "      <td>3</td>\n",
       "      <td>0</td>\n",
       "      <td>1</td>\n",
       "      <td>107.0</td>\n",
       "      <td>226</td>\n",
       "    </tr>\n",
       "    <tr>\n",
       "      <th>69</th>\n",
       "      <td>Consolação</td>\n",
       "      <td>8000000.0</td>\n",
       "      <td>COD WO269\\r\\nExcelente Casarão construído no s...</td>\n",
       "      <td>6</td>\n",
       "      <td>1</td>\n",
       "      <td>4</td>\n",
       "      <td>520.0</td>\n",
       "      <td>269</td>\n",
       "    </tr>\n",
       "    <tr>\n",
       "      <th>70</th>\n",
       "      <td>Higienópolis</td>\n",
       "      <td>1250000.0</td>\n",
       "      <td></td>\n",
       "      <td>1</td>\n",
       "      <td>1</td>\n",
       "      <td>0</td>\n",
       "      <td>126.0</td>\n",
       "      <td>58</td>\n",
       "    </tr>\n",
       "    <tr>\n",
       "      <th>71</th>\n",
       "      <td>Higienópolis</td>\n",
       "      <td>1250000.0</td>\n",
       "      <td></td>\n",
       "      <td>3</td>\n",
       "      <td>2</td>\n",
       "      <td>1</td>\n",
       "      <td>107.0</td>\n",
       "      <td>59</td>\n",
       "    </tr>\n",
       "    <tr>\n",
       "      <th>72</th>\n",
       "      <td>Ipiranga</td>\n",
       "      <td>350.0</td>\n",
       "      <td>COD N.S.293\\r\\nApartamento localizado próximo ...</td>\n",
       "      <td>2</td>\n",
       "      <td>0</td>\n",
       "      <td>1</td>\n",
       "      <td>65.0</td>\n",
       "      <td>293</td>\n",
       "    </tr>\n",
       "    <tr>\n",
       "      <th>73</th>\n",
       "      <td>Itaim Bibi</td>\n",
       "      <td>1350000.0</td>\n",
       "      <td>Descrição do imóvel:\\r\\nArea útil: 130m²\\r\\n3 ...</td>\n",
       "      <td>3</td>\n",
       "      <td>1</td>\n",
       "      <td>1</td>\n",
       "      <td>130.0</td>\n",
       "      <td>257</td>\n",
       "    </tr>\n",
       "    <tr>\n",
       "      <th>74</th>\n",
       "      <td>Jardim Felicidade (Zona Oeste)</td>\n",
       "      <td>265000.0</td>\n",
       "      <td>Próximo ao shopping Tietê plaza, \\r\\n2 quartos...</td>\n",
       "      <td>2</td>\n",
       "      <td>0</td>\n",
       "      <td>1</td>\n",
       "      <td>50.0</td>\n",
       "      <td>243</td>\n",
       "    </tr>\n",
       "  </tbody>\n",
       "</table>\n",
       "<p>75 rows × 8 columns</p>\n",
       "</div>"
      ],
      "text/plain": [
       "                                nome      valor  \\\n",
       "0                        Água Branca   700000.0   \n",
       "1                        Água Branca   905000.0   \n",
       "2                        Barra Funda   340000.0   \n",
       "3                        Barra Funda   530000.0   \n",
       "4                         Bela Vista   200000.0   \n",
       "5                         Bela Vista   255000.0   \n",
       "6                         Bela Vista   290000.0   \n",
       "7                         Bela Vista   300000.0   \n",
       "8                         Bela Vista   320000.0   \n",
       "9                         Bela Vista   357000.0   \n",
       "10                        Bela Vista   375000.0   \n",
       "11                        Bela Vista   415000.0   \n",
       "12                        Bela Vista   475000.0   \n",
       "13                        Bela Vista   489000.0   \n",
       "14                        Bela Vista   520000.0   \n",
       "15                        Bela Vista   590000.0   \n",
       "16                        Bela Vista   630000.0   \n",
       "17                        Bela Vista   650000.0   \n",
       "18                        Bela Vista  1200000.0   \n",
       "19                        Bom Retiro   450000.0   \n",
       "20                              Brás   210000.0   \n",
       "21                              Brás   280000.0   \n",
       "22                    Campos Elíseos   240000.0   \n",
       "23                    Campos Elíseos   243000.0   \n",
       "24                    Campos Elíseos   305000.0   \n",
       "25                    Campos Elíseos   330000.0   \n",
       "26                    Campos Elíseos   330000.0   \n",
       "27                    Campos Elíseos   350000.0   \n",
       "28                    Campos Elíseos   350000.0   \n",
       "29                    Campos Elíseos   360000.0   \n",
       "..                               ...        ...   \n",
       "45                            Centro   220000.0   \n",
       "46                            Centro   225000.0   \n",
       "47                            centro   250000.0   \n",
       "48                            Centro   258000.0   \n",
       "49                            Centro   265000.0   \n",
       "50                            Centro   265000.0   \n",
       "51                            Centro   273000.0   \n",
       "52                            Centro   296500.0   \n",
       "53                            Centro   320000.0   \n",
       "54                            Centro   350000.0   \n",
       "55                            Centro   380000.0   \n",
       "56                            Centro   400000.0   \n",
       "57                            Centro   400000.0   \n",
       "58                            Centro   500000.0   \n",
       "59                            Centro  1150000.0   \n",
       "60                            Centro  1150000.0   \n",
       "61                            Centro  1500000.0   \n",
       "62                   Cerqueira César   970000.0   \n",
       "63                Chácara Califórnia   850000.0   \n",
       "64  Conjunto Promorar Vila Maria III   600000.0   \n",
       "65                        Consolação   380000.0   \n",
       "66                        Consolação   420000.0   \n",
       "67                        Consolação   830000.0   \n",
       "68                        Consolação   900054.0   \n",
       "69                        Consolação  8000000.0   \n",
       "70                      Higienópolis  1250000.0   \n",
       "71                      Higienópolis  1250000.0   \n",
       "72                          Ipiranga      350.0   \n",
       "73                        Itaim Bibi  1350000.0   \n",
       "74    Jardim Felicidade (Zona Oeste)   265000.0   \n",
       "\n",
       "                                            descricao  quartos  banheiros  \\\n",
       "0   Descrição do Apto:\\r\\n63m² de área útil\\r\\n114...        2          1   \n",
       "1                    Varanda Gourmet e Lazer completo        3          0   \n",
       "2   Apartamento com dois dormitórios, sala, cozinh...        2          0   \n",
       "3                                                            2          1   \n",
       "4   Apartamento tipo studio na avenida 9 de julho ...        0          0   \n",
       "5   vende-se studio mobiliado ao lado da avenida p...        1          0   \n",
       "6   Belo apartamento situado na região da Bela Vis...        1          0   \n",
       "7                                              W. 158        2          0   \n",
       "8   Temos para você uma ótima oportunidade de apê ...        0          0   \n",
       "9   Apartamento Kitnet - Bela Vista \\r\\n\\r\\nAo lad...        0          0   \n",
       "10  W. 194\\r\\n \\r\\nApartamento à venda próximo ao ...        1          1   \n",
       "11  Apartamento reformado living p/ 2 ambientes. \\...        1          0   \n",
       "12  I.S codigo 397\\r\\nLOCAÇÃO : 2.500,00Condomínio...        1          0   \n",
       "13  W. 199\\r\\nO Apartamento está no bairro da Bela...        3          1   \n",
       "14  I.S codigo 475\\r\\nVende-se Apartamento com Arm...        1          0   \n",
       "15                                                           2          1   \n",
       "16                                                           2          0   \n",
       "17  Descrição\\r\\n1 Vaga 50m² de área útil \\r\\n2 Do...        2          0   \n",
       "18  F.S. 66Lindo sobrado com 2 vagas de garagem, á...        3          0   \n",
       "19  J.A codigo 466\\r\\num apartamento no Bom Retiro...        2          1   \n",
       "20  Apartamento tipo Studio, muito próximo ao metr...        1          1   \n",
       "21  Apartamento a venda em frente a estação CPTM  ...        2          0   \n",
       "22  Código - N.S/W.O.302\\r\\nApartamento lindo para...        1          0   \n",
       "23  apartamento a venda próximo ao terminal de ôni...        1          0   \n",
       "24                                                           1          0   \n",
       "25                                                           2          0   \n",
       "26  Prédio com hall e bicicletário. \\r\\nPortão dig...        2          0   \n",
       "27  CÓDIGO - W.O.181\\r\\n3 dormitórios, sala, cozin...        3          1   \n",
       "28  ÓTIMO APARTAMENTO A VENDA PROXIMO O BAR BRAMA!...        2          0   \n",
       "29  Apartamento totalmente equipado , estrategicam...        1          0   \n",
       "..                                                ...      ...        ...   \n",
       "45  F,L // Apartamento amplo com living para dois ...        1          0   \n",
       "46  Código - F.M.307\\r\\nLindo studio pra venda no ...        0          1   \n",
       "47  W.O .   Cod : 308   \\r\\nkit Reformada  com esp...        1          0   \n",
       "48                                                           0          0   \n",
       "49  Apartamento na Avenida São João, próximo a Est...        1          0   \n",
       "50  Código - N.S.331\\r\\nApartamento lindo e reform...        1          0   \n",
       "51  Código - I.S.342\\r\\nÓtimo imóvel no Centro de ...        1          0   \n",
       "52  L.L.53\\r\\nApartamento lindo reformado próximo ...        1          0   \n",
       "53  sala comercial ao lado do metro república ,aba...        0          0   \n",
       "54  Código - I.S.359\\r\\nBelo apartamento na Av. 9 ...        1          0   \n",
       "55  I.S codigo 442\\r\\nApartamento todo reformado\\r...        2          0   \n",
       "56  CÓDIGO - W.O.300  \\r\\n   Ótimo apartamento á V...        1          0   \n",
       "57  Código - L.C.362\\r\\nApartamento tipo Studio, c...        1          1   \n",
       "58  ótimo apartamento na Rua Do Arouche literalmet...        1          1   \n",
       "59  Código - N.S.345\\r\\nLINDO APARTAMENTO DUPLEX, ...        3          0   \n",
       "60                                             W. 141        3          1   \n",
       "61  Código - F.M.341\\r\\nBelo apartamento reformado...        3          0   \n",
       "62  COD WO41\\r\\nExcelente apartamento na Alameda S...        4          1   \n",
       "63  Apartamento possui , 110m² com vaga de garagem...        3          0   \n",
       "64  I.S codigo 404                                ...        3          1   \n",
       "65  COD W.294\\r\\nLINDO APARTAMENTO DE 50m² (1 DORM...        1          0   \n",
       "66  Código - N.S.310\\r\\nApartamento lindo rico em ...        2          0   \n",
       "67  Descrição\\r\\n87m² de área útil\\r\\n2 Dormitório...        2          2   \n",
       "68  Apto com 107 m² , bem arejado. 3 quartos2 apar...        3          0   \n",
       "69  COD WO269\\r\\nExcelente Casarão construído no s...        6          1   \n",
       "70                                                           1          1   \n",
       "71                                                           3          2   \n",
       "72  COD N.S.293\\r\\nApartamento localizado próximo ...        2          0   \n",
       "73  Descrição do imóvel:\\r\\nArea útil: 130m²\\r\\n3 ...        3          1   \n",
       "74  Próximo ao shopping Tietê plaza, \\r\\n2 quartos...        2          0   \n",
       "\n",
       "    vagas   area  codigo  \n",
       "0       2   63.0     249  \n",
       "1       0    0.0     252  \n",
       "2       0   86.0      26  \n",
       "3       0   66.0      34  \n",
       "4       0    0.0     421  \n",
       "5       0   30.0     272  \n",
       "6       0   39.0      67  \n",
       "7       0   39.0     158  \n",
       "8       1   28.0      48  \n",
       "9       0   46.0     265  \n",
       "10      0   45.0     194  \n",
       "11      1   36.0     198  \n",
       "12      1   40.0     397  \n",
       "13      1   90.0     199  \n",
       "14      1   48.0     475  \n",
       "15      0   60.0      82  \n",
       "16      1   72.0      65  \n",
       "17      1   50.0     190  \n",
       "18      2  290.0      66  \n",
       "19      1   57.0     466  \n",
       "20      0   30.0     384  \n",
       "21      1   50.0     284  \n",
       "22      0   45.0     302  \n",
       "23      0   53.0     282  \n",
       "24      0   61.0     147  \n",
       "25      0   54.0      55  \n",
       "26      0   65.0     215  \n",
       "27      0   98.0     181  \n",
       "28      0   41.0     478  \n",
       "29      0   27.0     446  \n",
       "..    ...    ...     ...  \n",
       "45      0   45.0     468  \n",
       "46      0   22.0     307  \n",
       "47      0    0.0     308  \n",
       "48      0    0.0     379  \n",
       "49      0   50.0     309  \n",
       "50      1    0.0     331  \n",
       "51      0   70.0     342  \n",
       "52      0   40.0      53  \n",
       "53      0  142.0     239  \n",
       "54      0   37.0     359  \n",
       "55      0   80.0     442  \n",
       "56      1    0.0     300  \n",
       "57      1   33.0     362  \n",
       "58      0   77.0     393  \n",
       "59      1  105.0     345  \n",
       "60      0  192.0     141  \n",
       "61      0  260.0     341  \n",
       "62      0    0.0      41  \n",
       "63      1  110.0     436  \n",
       "64      0  100.0     404  \n",
       "65      0    0.0     294  \n",
       "66      2   50.0     310  \n",
       "67      1   87.0     251  \n",
       "68      1  107.0     226  \n",
       "69      4  520.0     269  \n",
       "70      0  126.0      58  \n",
       "71      1  107.0      59  \n",
       "72      1   65.0     293  \n",
       "73      1  130.0     257  \n",
       "74      1   50.0     243  \n",
       "\n",
       "[75 rows x 8 columns]"
      ]
     },
     "execution_count": 25,
     "metadata": {},
     "output_type": "execute_result"
    }
   ],
   "source": [
    "df_paginado.head(75)"
   ]
  },
  {
   "cell_type": "code",
   "execution_count": 26,
   "metadata": {
    "ExecuteTime": {
     "end_time": "2019-07-02T22:57:21.701100Z",
     "start_time": "2019-07-02T22:57:21.666777Z"
    }
   },
   "outputs": [],
   "source": [
    "df_paginado.to_csv('df_paginado-imoveisnocentro.csv',index=False)"
   ]
  },
  {
   "cell_type": "code",
   "execution_count": null,
   "metadata": {},
   "outputs": [],
   "source": []
  }
 ],
 "metadata": {
  "kernelspec": {
   "display_name": "Python 3",
   "language": "python",
   "name": "python3"
  },
  "language_info": {
   "codemirror_mode": {
    "name": "ipython",
    "version": 3
   },
   "file_extension": ".py",
   "mimetype": "text/x-python",
   "name": "python",
   "nbconvert_exporter": "python",
   "pygments_lexer": "ipython3",
   "version": "3.7.3"
  },
  "toc": {
   "base_numbering": 1,
   "nav_menu": {},
   "number_sections": true,
   "sideBar": true,
   "skip_h1_title": false,
   "title_cell": "Table of Contents",
   "title_sidebar": "Contents",
   "toc_cell": false,
   "toc_position": {},
   "toc_section_display": true,
   "toc_window_display": false
  }
 },
 "nbformat": 4,
 "nbformat_minor": 2
}
