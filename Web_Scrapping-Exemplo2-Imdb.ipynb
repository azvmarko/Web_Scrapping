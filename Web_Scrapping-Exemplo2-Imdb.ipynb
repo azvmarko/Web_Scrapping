{
 "cells": [
  {
   "cell_type": "markdown",
   "metadata": {},
   "source": [
    "# TESTE DE WEB SCRAPPING \n",
    "\n",
    "Endereço web: https://www.imdb.com/search/title/?release_date=2019&sort=num_votes,desc&page=1\n",
    "\n",
    "Capturar os seguintes campos em uma primeira rodada:\n",
    "\n",
    "- Nome do filme\n",
    "- Ano do filme\n",
    "- Nota do filme\n",
    "- Rating do filme\n",
    "- Número de votantes\n",
    "\n",
    "Depois desta primeira ação filtrar por ano e paginar por um determinado número de páginas (dados pelo usuário)."
   ]
  },
  {
   "cell_type": "code",
   "execution_count": 28,
   "metadata": {
    "ExecuteTime": {
     "end_time": "2019-07-03T01:35:10.323003Z",
     "start_time": "2019-07-03T01:35:10.307379Z"
    }
   },
   "outputs": [],
   "source": [
    "import pandas as pd\n",
    "from bs4 import BeautifulSoup\n",
    "from requests import get\n",
    "from time import sleep\n",
    "from random import randint"
   ]
  },
  {
   "cell_type": "markdown",
   "metadata": {},
   "source": [
    "# Determinando a url"
   ]
  },
  {
   "cell_type": "code",
   "execution_count": 2,
   "metadata": {
    "ExecuteTime": {
     "end_time": "2019-07-03T00:50:08.232989Z",
     "start_time": "2019-07-03T00:50:08.219373Z"
    }
   },
   "outputs": [],
   "source": [
    "url = \"https://www.imdb.com/search/title/?release_date=2019&sort=num_votes,desc&page=1\""
   ]
  },
  {
   "cell_type": "code",
   "execution_count": 3,
   "metadata": {
    "ExecuteTime": {
     "end_time": "2019-07-03T00:50:09.095338Z",
     "start_time": "2019-07-03T00:50:08.236988Z"
    }
   },
   "outputs": [
    {
     "data": {
      "text/plain": [
       "<Response [200]>"
      ]
     },
     "execution_count": 3,
     "metadata": {},
     "output_type": "execute_result"
    }
   ],
   "source": [
    "get(url)"
   ]
  },
  {
   "cell_type": "markdown",
   "metadata": {},
   "source": [
    "### Capturando a Url com GET"
   ]
  },
  {
   "cell_type": "code",
   "execution_count": 4,
   "metadata": {
    "ExecuteTime": {
     "end_time": "2019-07-03T00:50:09.892451Z",
     "start_time": "2019-07-03T00:50:09.096430Z"
    }
   },
   "outputs": [],
   "source": [
    "imdb = get(url).content"
   ]
  },
  {
   "cell_type": "markdown",
   "metadata": {},
   "source": [
    "### Transformando o conteúdo em HTML"
   ]
  },
  {
   "cell_type": "code",
   "execution_count": 5,
   "metadata": {
    "ExecuteTime": {
     "end_time": "2019-07-03T00:50:10.200799Z",
     "start_time": "2019-07-03T00:50:09.892451Z"
    }
   },
   "outputs": [],
   "source": [
    "conteudo = BeautifulSoup(imdb, 'html.parser')"
   ]
  },
  {
   "cell_type": "markdown",
   "metadata": {
    "ExecuteTime": {
     "end_time": "2019-07-03T00:45:56.383839Z",
     "start_time": "2019-07-03T00:45:56.361699Z"
    }
   },
   "source": [
    "# Identificando a posição inicial dos filmes "
   ]
  },
  {
   "cell_type": "code",
   "execution_count": 6,
   "metadata": {
    "ExecuteTime": {
     "end_time": "2019-07-03T00:50:10.274398Z",
     "start_time": "2019-07-03T00:50:10.200799Z"
    }
   },
   "outputs": [],
   "source": [
    "movie_containers = conteudo.find_all('div', class_ ='lister-item mode-advanced')"
   ]
  },
  {
   "cell_type": "markdown",
   "metadata": {},
   "source": [
    "### Verificando quantos itens foram coletados"
   ]
  },
  {
   "cell_type": "code",
   "execution_count": 7,
   "metadata": {
    "ExecuteTime": {
     "end_time": "2019-07-03T00:50:10.286012Z",
     "start_time": "2019-07-03T00:50:10.274398Z"
    }
   },
   "outputs": [
    {
     "name": "stdout",
     "output_type": "stream",
     "text": [
      "50\n"
     ]
    }
   ],
   "source": [
    "print(len(movie_containers))"
   ]
  },
  {
   "cell_type": "markdown",
   "metadata": {},
   "source": [
    "# Testando as posições dos itens a serem coletados"
   ]
  },
  {
   "cell_type": "code",
   "execution_count": 8,
   "metadata": {
    "ExecuteTime": {
     "end_time": "2019-07-03T00:50:10.294010Z",
     "start_time": "2019-07-03T00:50:10.290012Z"
    }
   },
   "outputs": [],
   "source": [
    "first_movie=movie_containers[0]"
   ]
  },
  {
   "cell_type": "code",
   "execution_count": 9,
   "metadata": {
    "ExecuteTime": {
     "end_time": "2019-07-03T00:50:10.302008Z",
     "start_time": "2019-07-03T00:50:10.294010Z"
    }
   },
   "outputs": [
    {
     "data": {
      "text/plain": [
       "'Vingadores: Ultimato'"
      ]
     },
     "execution_count": 9,
     "metadata": {},
     "output_type": "execute_result"
    }
   ],
   "source": [
    "first_movie.h3.a.text.strip() #nome do filme"
   ]
  },
  {
   "cell_type": "code",
   "execution_count": 10,
   "metadata": {
    "ExecuteTime": {
     "end_time": "2019-07-03T00:50:10.310005Z",
     "start_time": "2019-07-03T00:50:10.302008Z"
    }
   },
   "outputs": [
    {
     "data": {
      "text/plain": [
       "'(2019)'"
      ]
     },
     "execution_count": 10,
     "metadata": {},
     "output_type": "execute_result"
    }
   ],
   "source": [
    "first_movie.h3.find('span', class_='lister-item-year text-muted unbold').text.strip() #ano do filme"
   ]
  },
  {
   "cell_type": "code",
   "execution_count": 11,
   "metadata": {
    "ExecuteTime": {
     "end_time": "2019-07-03T00:50:10.318003Z",
     "start_time": "2019-07-03T00:50:10.310005Z"
    }
   },
   "outputs": [
    {
     "data": {
      "text/plain": [
       "8.7"
      ]
     },
     "execution_count": 11,
     "metadata": {},
     "output_type": "execute_result"
    }
   ],
   "source": [
    "float(first_movie.strong.text.strip()) #nota do filme"
   ]
  },
  {
   "cell_type": "code",
   "execution_count": 12,
   "metadata": {
    "ExecuteTime": {
     "end_time": "2019-07-03T00:50:10.330000Z",
     "start_time": "2019-07-03T00:50:10.318003Z"
    }
   },
   "outputs": [
    {
     "data": {
      "text/plain": [
       "78"
      ]
     },
     "execution_count": 12,
     "metadata": {},
     "output_type": "execute_result"
    }
   ],
   "source": [
    "int(first_movie.find('span', class_ = 'metascore favorable').text.strip()) #rating do filme"
   ]
  },
  {
   "cell_type": "code",
   "execution_count": 13,
   "metadata": {
    "ExecuteTime": {
     "end_time": "2019-07-03T00:50:10.349994Z",
     "start_time": "2019-07-03T00:50:10.330000Z"
    }
   },
   "outputs": [
    {
     "data": {
      "text/plain": [
       "463711"
      ]
     },
     "execution_count": 13,
     "metadata": {},
     "output_type": "execute_result"
    }
   ],
   "source": [
    "int(first_movie.find('span', attrs={'name':'nv'})['data-value']) #número de votantes"
   ]
  },
  {
   "cell_type": "markdown",
   "metadata": {},
   "source": [
    "# Função para coletar os dados - sem paginação"
   ]
  },
  {
   "cell_type": "code",
   "execution_count": 40,
   "metadata": {
    "ExecuteTime": {
     "end_time": "2019-07-03T03:45:48.171430Z",
     "start_time": "2019-07-03T03:45:47.983932Z"
    }
   },
   "outputs": [],
   "source": [
    "names = []\n",
    "years = []\n",
    "imdb_ratings = []\n",
    "metascores = []\n",
    "votes = []\n",
    "\n",
    "for container in movie_containers:\n",
    "    name = container.h3.a.text.strip()\n",
    "    names.append(name)\n",
    "    \n",
    "    year = container.h3.find('span', class_='lister-item-year text-muted unbold').text.strip().replace(\"(\",\"\").replace(\")\",\"\")\n",
    "    years.append(year)\n",
    "  \n",
    "    imdb_rating = float(container.strong.text.strip())\n",
    "    imdb_ratings.append(imdb_rating)\n",
    "    \n",
    "    vote = int(container.find('span', attrs={'name':'nv'})['data-value'])\n",
    "    votes.append(vote)\n",
    "        \n",
    "    if container.find('div', class_ = 'ratings-metascore') is not None: \n",
    "        metascore = int(container.find('span', class_ = 'metascore').text.strip())\n",
    "        metascores.append(metascore)\n",
    "    else:\n",
    "        metascore = 0\n",
    "        metascores.append(metascore)\n",
    "    \n",
    "        "
   ]
  },
  {
   "cell_type": "markdown",
   "metadata": {},
   "source": [
    "# Criando um DataFrame com os dados coletados"
   ]
  },
  {
   "cell_type": "code",
   "execution_count": 41,
   "metadata": {
    "ExecuteTime": {
     "end_time": "2019-07-03T03:45:50.046464Z",
     "start_time": "2019-07-03T03:45:50.015214Z"
    }
   },
   "outputs": [],
   "source": [
    "df = pd.DataFrame({'nome':names, \n",
    "                   'ano':years,\n",
    "                   'score': imdb_ratings,\n",
    "                   'metascore': metascores,\n",
    "                   'votos':votes })"
   ]
  },
  {
   "cell_type": "code",
   "execution_count": 42,
   "metadata": {
    "ExecuteTime": {
     "end_time": "2019-07-03T03:45:51.624770Z",
     "start_time": "2019-07-03T03:45:51.593522Z"
    }
   },
   "outputs": [
    {
     "data": {
      "text/html": [
       "<div>\n",
       "<style scoped>\n",
       "    .dataframe tbody tr th:only-of-type {\n",
       "        vertical-align: middle;\n",
       "    }\n",
       "\n",
       "    .dataframe tbody tr th {\n",
       "        vertical-align: top;\n",
       "    }\n",
       "\n",
       "    .dataframe thead th {\n",
       "        text-align: right;\n",
       "    }\n",
       "</style>\n",
       "<table border=\"1\" class=\"dataframe\">\n",
       "  <thead>\n",
       "    <tr style=\"text-align: right;\">\n",
       "      <th></th>\n",
       "      <th>nome</th>\n",
       "      <th>ano</th>\n",
       "      <th>score</th>\n",
       "      <th>metascore</th>\n",
       "      <th>votos</th>\n",
       "    </tr>\n",
       "  </thead>\n",
       "  <tbody>\n",
       "    <tr>\n",
       "      <th>0</th>\n",
       "      <td>Vingadores: Ultimato</td>\n",
       "      <td>2019</td>\n",
       "      <td>8.7</td>\n",
       "      <td>78</td>\n",
       "      <td>463711</td>\n",
       "    </tr>\n",
       "    <tr>\n",
       "      <th>1</th>\n",
       "      <td>Capitã Marvel</td>\n",
       "      <td>2019</td>\n",
       "      <td>7.0</td>\n",
       "      <td>64</td>\n",
       "      <td>315738</td>\n",
       "    </tr>\n",
       "    <tr>\n",
       "      <th>2</th>\n",
       "      <td>Chernobyl</td>\n",
       "      <td>2019</td>\n",
       "      <td>9.6</td>\n",
       "      <td>0</td>\n",
       "      <td>288233</td>\n",
       "    </tr>\n",
       "    <tr>\n",
       "      <th>3</th>\n",
       "      <td>Game of Thrones</td>\n",
       "      <td>2011–2019</td>\n",
       "      <td>4.2</td>\n",
       "      <td>0</td>\n",
       "      <td>207502</td>\n",
       "    </tr>\n",
       "    <tr>\n",
       "      <th>4</th>\n",
       "      <td>Game of Thrones</td>\n",
       "      <td>2011–2019</td>\n",
       "      <td>7.6</td>\n",
       "      <td>0</td>\n",
       "      <td>193703</td>\n",
       "    </tr>\n",
       "  </tbody>\n",
       "</table>\n",
       "</div>"
      ],
      "text/plain": [
       "                   nome        ano  score  metascore   votos\n",
       "0  Vingadores: Ultimato       2019    8.7         78  463711\n",
       "1         Capitã Marvel       2019    7.0         64  315738\n",
       "2             Chernobyl       2019    9.6          0  288233\n",
       "3       Game of Thrones  2011–2019    4.2          0  207502\n",
       "4       Game of Thrones  2011–2019    7.6          0  193703"
      ]
     },
     "execution_count": 42,
     "metadata": {},
     "output_type": "execute_result"
    }
   ],
   "source": [
    "df.head(5)"
   ]
  },
  {
   "cell_type": "markdown",
   "metadata": {},
   "source": [
    "# Paginando"
   ]
  },
  {
   "cell_type": "markdown",
   "metadata": {},
   "source": [
    "### Determinando as quantidades de páginas e o anos"
   ]
  },
  {
   "cell_type": "code",
   "execution_count": 17,
   "metadata": {
    "ExecuteTime": {
     "end_time": "2019-07-03T00:51:10.376603Z",
     "start_time": "2019-07-03T00:51:10.360980Z"
    }
   },
   "outputs": [
    {
     "data": {
      "text/plain": [
       "['1', '2', '3', '4', '5']"
      ]
     },
     "execution_count": 17,
     "metadata": {},
     "output_type": "execute_result"
    }
   ],
   "source": [
    "paginas = [str(i) for i in range(1,6)]\n",
    "paginas"
   ]
  },
  {
   "cell_type": "code",
   "execution_count": 20,
   "metadata": {
    "ExecuteTime": {
     "end_time": "2019-07-03T01:22:53.968455Z",
     "start_time": "2019-07-03T01:22:53.952830Z"
    }
   },
   "outputs": [
    {
     "data": {
      "text/plain": [
       "['2017', '2018', '2019']"
      ]
     },
     "execution_count": 20,
     "metadata": {},
     "output_type": "execute_result"
    }
   ],
   "source": [
    "anos = [str(i) for i in range(2017, 2020)]\n",
    "anos"
   ]
  },
  {
   "cell_type": "markdown",
   "metadata": {},
   "source": [
    "### Testando as variáveis com a URL"
   ]
  },
  {
   "cell_type": "code",
   "execution_count": 24,
   "metadata": {
    "ExecuteTime": {
     "end_time": "2019-07-03T01:29:45.532532Z",
     "start_time": "2019-07-03T01:29:32.798689Z"
    }
   },
   "outputs": [
    {
     "name": "stdout",
     "output_type": "stream",
     "text": [
      "<Response [200]> 1 https://www.imdb.com/search/title/?release_date=2017&sort=num_votes,desc&page=1\n",
      "<Response [200]> 2 https://www.imdb.com/search/title/?release_date=2017&sort=num_votes,desc&page=2\n",
      "<Response [200]> 3 https://www.imdb.com/search/title/?release_date=2017&sort=num_votes,desc&page=3\n",
      "<Response [200]> 4 https://www.imdb.com/search/title/?release_date=2017&sort=num_votes,desc&page=4\n",
      "<Response [200]> 5 https://www.imdb.com/search/title/?release_date=2017&sort=num_votes,desc&page=5\n",
      "<Response [200]> 1 https://www.imdb.com/search/title/?release_date=2018&sort=num_votes,desc&page=1\n",
      "<Response [200]> 2 https://www.imdb.com/search/title/?release_date=2018&sort=num_votes,desc&page=2\n",
      "<Response [200]> 3 https://www.imdb.com/search/title/?release_date=2018&sort=num_votes,desc&page=3\n",
      "<Response [200]> 4 https://www.imdb.com/search/title/?release_date=2018&sort=num_votes,desc&page=4\n",
      "<Response [200]> 5 https://www.imdb.com/search/title/?release_date=2018&sort=num_votes,desc&page=5\n",
      "<Response [200]> 1 https://www.imdb.com/search/title/?release_date=2019&sort=num_votes,desc&page=1\n",
      "<Response [200]> 2 https://www.imdb.com/search/title/?release_date=2019&sort=num_votes,desc&page=2\n",
      "<Response [200]> 3 https://www.imdb.com/search/title/?release_date=2019&sort=num_votes,desc&page=3\n",
      "<Response [200]> 4 https://www.imdb.com/search/title/?release_date=2019&sort=num_votes,desc&page=4\n",
      "<Response [200]> 5 https://www.imdb.com/search/title/?release_date=2019&sort=num_votes,desc&page=5\n"
     ]
    }
   ],
   "source": [
    "for y in anos:\n",
    "    for page in paginas:\n",
    "        response = get('https://www.imdb.com/search/title/?release_date=' + y + '&sort=num_votes,desc&page='+page)\n",
    "        print(response, page, 'https://www.imdb.com/search/title/?release_date=' + y + '&sort=num_votes,desc&page='+page)"
   ]
  },
  {
   "cell_type": "markdown",
   "metadata": {},
   "source": [
    "# Coletando com as variáveis de páginas e anos"
   ]
  },
  {
   "cell_type": "code",
   "execution_count": 43,
   "metadata": {
    "ExecuteTime": {
     "end_time": "2019-07-03T03:52:05.083972Z",
     "start_time": "2019-07-03T03:47:05.826085Z"
    }
   },
   "outputs": [],
   "source": [
    "names = []\n",
    "years = []\n",
    "imdb_ratings = []\n",
    "metascores = []\n",
    "votes = []\n",
    "\n",
    "for y in anos:\n",
    "    for page in paginas:\n",
    "        \n",
    "        response = get('https://www.imdb.com/search/title/?release_date=' + y + '&sort=num_votes,desc&page='+page)\n",
    "        sleep(randint(10,30))\n",
    "        page_html = BeautifulSoup(response.content, 'html.parser')\n",
    "        movie_containers = conteudo.find_all('div', class_ ='lister-item mode-advanced')\n",
    "        \n",
    "        for container in movie_containers:\n",
    "            name = container.h3.a.text.strip()\n",
    "            names.append(name)\n",
    "\n",
    "            year = container.h3.find('span', class_='lister-item-year text-muted unbold').text.strip().replace(\"(\",\"\").replace(\")\",\"\")\n",
    "            years.append(year)\n",
    "\n",
    "            imdb_rating = float(container.strong.text.strip())\n",
    "            imdb_ratings.append(imdb_rating)\n",
    "            \n",
    "            vote = int(container.find('span', attrs={'name':'nv'})['data-value'])\n",
    "            votes.append(vote)\n",
    "            \n",
    "            if container.find('div', class_ = 'ratings-metascore') is not None:\n",
    "                metascore = int(container.find('span', class_ = 'metascore').text.strip())\n",
    "                metascores.append(metascore)\n",
    "            else:\n",
    "                metascore = 0\n",
    "                metascores.append(metascore)\n",
    "            "
   ]
  },
  {
   "cell_type": "markdown",
   "metadata": {},
   "source": [
    "# Criando o DataFrame Paginado"
   ]
  },
  {
   "cell_type": "code",
   "execution_count": 44,
   "metadata": {
    "ExecuteTime": {
     "end_time": "2019-07-03T03:52:12.045826Z",
     "start_time": "2019-07-03T03:52:12.014576Z"
    }
   },
   "outputs": [],
   "source": [
    "df_paginado = pd.DataFrame({'nome':names,\n",
    "                   'ano':years, \n",
    "                   'imdb_ratings': imdb_ratings, \n",
    "                   'metascore': metascores,\n",
    "                   'qtd_votos':votes\n",
    "                  })"
   ]
  },
  {
   "cell_type": "code",
   "execution_count": 45,
   "metadata": {
    "ExecuteTime": {
     "end_time": "2019-07-03T03:52:15.922856Z",
     "start_time": "2019-07-03T03:52:15.891608Z"
    }
   },
   "outputs": [
    {
     "data": {
      "text/html": [
       "<div>\n",
       "<style scoped>\n",
       "    .dataframe tbody tr th:only-of-type {\n",
       "        vertical-align: middle;\n",
       "    }\n",
       "\n",
       "    .dataframe tbody tr th {\n",
       "        vertical-align: top;\n",
       "    }\n",
       "\n",
       "    .dataframe thead th {\n",
       "        text-align: right;\n",
       "    }\n",
       "</style>\n",
       "<table border=\"1\" class=\"dataframe\">\n",
       "  <thead>\n",
       "    <tr style=\"text-align: right;\">\n",
       "      <th></th>\n",
       "      <th>nome</th>\n",
       "      <th>ano</th>\n",
       "      <th>imdb_ratings</th>\n",
       "      <th>metascore</th>\n",
       "      <th>qtd_votos</th>\n",
       "    </tr>\n",
       "  </thead>\n",
       "  <tbody>\n",
       "    <tr>\n",
       "      <th>0</th>\n",
       "      <td>Vingadores: Ultimato</td>\n",
       "      <td>2019</td>\n",
       "      <td>8.7</td>\n",
       "      <td>78</td>\n",
       "      <td>463711</td>\n",
       "    </tr>\n",
       "    <tr>\n",
       "      <th>1</th>\n",
       "      <td>Capitã Marvel</td>\n",
       "      <td>2019</td>\n",
       "      <td>7.0</td>\n",
       "      <td>64</td>\n",
       "      <td>315738</td>\n",
       "    </tr>\n",
       "    <tr>\n",
       "      <th>2</th>\n",
       "      <td>Chernobyl</td>\n",
       "      <td>2019</td>\n",
       "      <td>9.6</td>\n",
       "      <td>0</td>\n",
       "      <td>288233</td>\n",
       "    </tr>\n",
       "    <tr>\n",
       "      <th>3</th>\n",
       "      <td>Game of Thrones</td>\n",
       "      <td>2011–2019</td>\n",
       "      <td>4.2</td>\n",
       "      <td>0</td>\n",
       "      <td>207502</td>\n",
       "    </tr>\n",
       "    <tr>\n",
       "      <th>4</th>\n",
       "      <td>Game of Thrones</td>\n",
       "      <td>2011–2019</td>\n",
       "      <td>7.6</td>\n",
       "      <td>0</td>\n",
       "      <td>193703</td>\n",
       "    </tr>\n",
       "  </tbody>\n",
       "</table>\n",
       "</div>"
      ],
      "text/plain": [
       "                   nome        ano  imdb_ratings  metascore  qtd_votos\n",
       "0  Vingadores: Ultimato       2019           8.7         78     463711\n",
       "1         Capitã Marvel       2019           7.0         64     315738\n",
       "2             Chernobyl       2019           9.6          0     288233\n",
       "3       Game of Thrones  2011–2019           4.2          0     207502\n",
       "4       Game of Thrones  2011–2019           7.6          0     193703"
      ]
     },
     "execution_count": 45,
     "metadata": {},
     "output_type": "execute_result"
    }
   ],
   "source": [
    "df_paginado.head()"
   ]
  },
  {
   "cell_type": "code",
   "execution_count": 46,
   "metadata": {
    "ExecuteTime": {
     "end_time": "2019-07-03T03:52:21.885368Z",
     "start_time": "2019-07-03T03:52:21.854117Z"
    }
   },
   "outputs": [
    {
     "data": {
      "text/plain": [
       "3750"
      ]
     },
     "execution_count": 46,
     "metadata": {},
     "output_type": "execute_result"
    }
   ],
   "source": [
    "df_paginado.size"
   ]
  },
  {
   "cell_type": "code",
   "execution_count": null,
   "metadata": {},
   "outputs": [],
   "source": []
  }
 ],
 "metadata": {
  "kernelspec": {
   "display_name": "Python 3",
   "language": "python",
   "name": "python3"
  },
  "language_info": {
   "codemirror_mode": {
    "name": "ipython",
    "version": 3
   },
   "file_extension": ".py",
   "mimetype": "text/x-python",
   "name": "python",
   "nbconvert_exporter": "python",
   "pygments_lexer": "ipython3",
   "version": "3.7.3"
  },
  "toc": {
   "base_numbering": 1,
   "nav_menu": {},
   "number_sections": true,
   "sideBar": true,
   "skip_h1_title": false,
   "title_cell": "Table of Contents",
   "title_sidebar": "Contents",
   "toc_cell": false,
   "toc_position": {},
   "toc_section_display": true,
   "toc_window_display": false
  }
 },
 "nbformat": 4,
 "nbformat_minor": 2
}
